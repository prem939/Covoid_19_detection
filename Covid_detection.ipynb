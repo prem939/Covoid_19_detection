{
 "cells": [
  {
   "cell_type": "code",
   "execution_count": 1,
   "metadata": {},
   "outputs": [],
   "source": [
    "import pandas as pd\n",
    "import os\n",
    "import shutil"
   ]
  },
  {
   "cell_type": "code",
   "execution_count": 4,
   "metadata": {},
   "outputs": [],
   "source": [
    "# create the data for postive samples (github)\n",
    "FILE_PATH = 'metadata.csv'\n",
    "IMAGE_PATH = 'images'\n"
   ]
  },
  {
   "cell_type": "code",
   "execution_count": 5,
   "metadata": {},
   "outputs": [
    {
     "name": "stdout",
     "output_type": "stream",
     "text": [
      "(758, 29)\n"
     ]
    }
   ],
   "source": [
    "dataset = pd.read_csv(FILE_PATH)\n",
    "print(dataset.shape)"
   ]
  },
  {
   "cell_type": "code",
   "execution_count": 6,
   "metadata": {},
   "outputs": [
    {
     "data": {
      "text/plain": [
       "0      auntminnie-a-2020_01_28_23_51_6665_2020_01_28_...\n",
       "1      auntminnie-b-2020_01_28_23_51_6665_2020_01_28_...\n",
       "2      auntminnie-c-2020_01_28_23_51_6665_2020_01_28_...\n",
       "3      auntminnie-d-2020_01_28_23_51_6665_2020_01_28_...\n",
       "4                                  nejmc2001573_f1a.jpeg\n",
       "                             ...                        \n",
       "753                                         7a9ec606.jpg\n",
       "754                                         88859dc1.jpg\n",
       "755                                         3a81faf3.jpg\n",
       "756                                         bcb814aa.jpg\n",
       "757                                         76093afc.jpg\n",
       "Name: filename, Length: 758, dtype: object"
      ]
     },
     "execution_count": 6,
     "metadata": {},
     "output_type": "execute_result"
    }
   ],
   "source": [
    "dataset['filename']"
   ]
  },
  {
   "cell_type": "code",
   "execution_count": 7,
   "metadata": {},
   "outputs": [],
   "source": [
    "TARGET_DIR = 'dataset/Covid'\n",
    "if not os.path.exists(TARGET_DIR):\n",
    "    os.mkdir(TARGET_DIR)"
   ]
  },
  {
   "cell_type": "code",
   "execution_count": 8,
   "metadata": {},
   "outputs": [],
   "source": [
    "cnt = 0\n",
    "for (i, row) in dataset.iterrows():\n",
    "    if row['finding'] == 'COVID-19' and row['view'] == 'PA':\n",
    "        filename = row['filename']\n",
    "        image_path = IMAGE_PATH + '/' + filename\n",
    "        image_copy_path = TARGET_DIR + '/' + filename\n",
    "        shutil.copyfile(image_path,image_copy_path)\n",
    "        cnt += 1\n",
    "\n",
    "# print(cnt)"
   ]
  },
  {
   "cell_type": "code",
   "execution_count": 9,
   "metadata": {},
   "outputs": [],
   "source": [
    "# Sampling of images from kaggle\n",
    "import random\n",
    "KAGGLE_FILE_PATH = 'test/NORMAL'\n",
    "TARGET_NORMAL_DIR = 'dataset/Normal'\n"
   ]
  },
  {
   "cell_type": "code",
   "execution_count": 10,
   "metadata": {},
   "outputs": [],
   "source": [
    "image_names = os.listdir(KAGGLE_FILE_PATH)\n",
    "# image_names"
   ]
  },
  {
   "cell_type": "code",
   "execution_count": 11,
   "metadata": {},
   "outputs": [],
   "source": [
    "random.shuffle(image_names)"
   ]
  },
  {
   "cell_type": "code",
   "execution_count": 12,
   "metadata": {},
   "outputs": [
    {
     "ename": "FileNotFoundError",
     "evalue": "[Errno 2] No such file or directory: 'dataset/Normal/NORMAL2-IM-0368-0001.jpeg'",
     "output_type": "error",
     "traceback": [
      "\u001b[1;31m---------------------------------------------------------------------------\u001b[0m",
      "\u001b[1;31mFileNotFoundError\u001b[0m                         Traceback (most recent call last)",
      "\u001b[1;32m<ipython-input-12-cd1091b445a1>\u001b[0m in \u001b[0;36m<module>\u001b[1;34m\u001b[0m\n\u001b[0;32m      3\u001b[0m     \u001b[0mimage_path\u001b[0m \u001b[1;33m=\u001b[0m \u001b[0mKAGGLE_FILE_PATH\u001b[0m \u001b[1;33m+\u001b[0m \u001b[1;34m'/'\u001b[0m \u001b[1;33m+\u001b[0m \u001b[0mimage_name\u001b[0m\u001b[1;33m\u001b[0m\u001b[1;33m\u001b[0m\u001b[0m\n\u001b[0;32m      4\u001b[0m     \u001b[0mtarget_path\u001b[0m \u001b[1;33m=\u001b[0m \u001b[0mTARGET_NORMAL_DIR\u001b[0m \u001b[1;33m+\u001b[0m \u001b[1;34m'/'\u001b[0m \u001b[1;33m+\u001b[0m \u001b[0mimage_name\u001b[0m\u001b[1;33m\u001b[0m\u001b[1;33m\u001b[0m\u001b[0m\n\u001b[1;32m----> 5\u001b[1;33m     \u001b[0mshutil\u001b[0m\u001b[1;33m.\u001b[0m\u001b[0mcopyfile\u001b[0m\u001b[1;33m(\u001b[0m\u001b[0mimage_path\u001b[0m\u001b[1;33m,\u001b[0m \u001b[0mtarget_path\u001b[0m\u001b[1;33m)\u001b[0m\u001b[1;33m\u001b[0m\u001b[1;33m\u001b[0m\u001b[0m\n\u001b[0m",
      "\u001b[1;32m~\\anaconda3\\envs\\tensorflow\\lib\\shutil.py\u001b[0m in \u001b[0;36mcopyfile\u001b[1;34m(src, dst, follow_symlinks)\u001b[0m\n\u001b[0;32m    119\u001b[0m     \u001b[1;32melse\u001b[0m\u001b[1;33m:\u001b[0m\u001b[1;33m\u001b[0m\u001b[1;33m\u001b[0m\u001b[0m\n\u001b[0;32m    120\u001b[0m         \u001b[1;32mwith\u001b[0m \u001b[0mopen\u001b[0m\u001b[1;33m(\u001b[0m\u001b[0msrc\u001b[0m\u001b[1;33m,\u001b[0m \u001b[1;34m'rb'\u001b[0m\u001b[1;33m)\u001b[0m \u001b[1;32mas\u001b[0m \u001b[0mfsrc\u001b[0m\u001b[1;33m:\u001b[0m\u001b[1;33m\u001b[0m\u001b[1;33m\u001b[0m\u001b[0m\n\u001b[1;32m--> 121\u001b[1;33m             \u001b[1;32mwith\u001b[0m \u001b[0mopen\u001b[0m\u001b[1;33m(\u001b[0m\u001b[0mdst\u001b[0m\u001b[1;33m,\u001b[0m \u001b[1;34m'wb'\u001b[0m\u001b[1;33m)\u001b[0m \u001b[1;32mas\u001b[0m \u001b[0mfdst\u001b[0m\u001b[1;33m:\u001b[0m\u001b[1;33m\u001b[0m\u001b[1;33m\u001b[0m\u001b[0m\n\u001b[0m\u001b[0;32m    122\u001b[0m                 \u001b[0mcopyfileobj\u001b[0m\u001b[1;33m(\u001b[0m\u001b[0mfsrc\u001b[0m\u001b[1;33m,\u001b[0m \u001b[0mfdst\u001b[0m\u001b[1;33m)\u001b[0m\u001b[1;33m\u001b[0m\u001b[1;33m\u001b[0m\u001b[0m\n\u001b[0;32m    123\u001b[0m     \u001b[1;32mreturn\u001b[0m \u001b[0mdst\u001b[0m\u001b[1;33m\u001b[0m\u001b[1;33m\u001b[0m\u001b[0m\n",
      "\u001b[1;31mFileNotFoundError\u001b[0m: [Errno 2] No such file or directory: 'dataset/Normal/NORMAL2-IM-0368-0001.jpeg'"
     ]
    }
   ],
   "source": [
    "for i in range(142):\n",
    "    image_name = image_names[i]\n",
    "    image_path = KAGGLE_FILE_PATH + '/' + image_name\n",
    "    target_path = TARGET_NORMAL_DIR + '/' + image_name\n",
    "    shutil.copyfile(image_path, target_path)"
   ]
  },
  {
   "cell_type": "code",
   "execution_count": 2,
   "metadata": {},
   "outputs": [],
   "source": [
    "# Building CNN\n",
    "TRAIN_PATH = 'dataset/Train'\n",
    "VAL_PATH = 'dataset/Validation'"
   ]
  },
  {
   "cell_type": "code",
   "execution_count": 3,
   "metadata": {},
   "outputs": [
    {
     "name": "stderr",
     "output_type": "stream",
     "text": [
      "Using TensorFlow backend.\n"
     ]
    }
   ],
   "source": [
    "import numpy as np\n",
    "import matplotlib.pyplot as plt\n",
    "import keras\n",
    "from keras.layers import *\n",
    "from keras.models import *\n",
    "from keras.preprocessing import image"
   ]
  },
  {
   "cell_type": "code",
   "execution_count": 4,
   "metadata": {},
   "outputs": [],
   "source": [
    "model = Sequential()\n",
    "\n",
    "# adding input layer\n",
    "model.add(Conv2D(32, kernel_size = (3, 3), activation = 'relu', input_shape = [224, 224, 3]))\n",
    "# cnn.add(tf.keras.layers.Conv2D(filters = 32, kernel_size = 3, activation = 'relu', input_shape = [64, 64, 3]))\n",
    "# model.add(MaxPooling2D(pool_size =2, strides = 2))\n",
    "\n",
    "# adding secong layer\n",
    "# filters 64 used for increse the non linearity\n",
    "model.add(Conv2D(64, (3,3), activation = 'relu'))\n",
    "model.add(MaxPooling2D(pool_size =2, strides = 2))\n",
    "model.add(Dropout(0.25))\n",
    "\n",
    "# add another layer\n",
    "model.add(Conv2D(128, (3,3), activation = 'relu'))\n",
    "model.add(MaxPooling2D(pool_size =2, strides = 2))\n",
    "model.add(Dropout(0.25))\n",
    "\n",
    "\n",
    "# flatterning\n",
    "model.add(Flatten())\n",
    "\n",
    "model.add(Dense(64, activation = 'relu'))\n",
    "model.add(Dropout(0.5))\n",
    "\n",
    "# outputlayer\n",
    "model.add(Dense(1, activation = 'sigmoid'))\n",
    "\n",
    "model.compile(loss= keras.losses.binary_crossentropy, optimizer = 'adam', metrics = ['accuracy'])"
   ]
  },
  {
   "cell_type": "code",
   "execution_count": 5,
   "metadata": {},
   "outputs": [
    {
     "name": "stdout",
     "output_type": "stream",
     "text": [
      "Model: \"sequential_1\"\n",
      "_________________________________________________________________\n",
      "Layer (type)                 Output Shape              Param #   \n",
      "=================================================================\n",
      "conv2d_1 (Conv2D)            (None, 222, 222, 32)      896       \n",
      "_________________________________________________________________\n",
      "conv2d_2 (Conv2D)            (None, 220, 220, 64)      18496     \n",
      "_________________________________________________________________\n",
      "max_pooling2d_1 (MaxPooling2 (None, 110, 110, 64)      0         \n",
      "_________________________________________________________________\n",
      "dropout_1 (Dropout)          (None, 110, 110, 64)      0         \n",
      "_________________________________________________________________\n",
      "conv2d_3 (Conv2D)            (None, 108, 108, 128)     73856     \n",
      "_________________________________________________________________\n",
      "max_pooling2d_2 (MaxPooling2 (None, 54, 54, 128)       0         \n",
      "_________________________________________________________________\n",
      "dropout_2 (Dropout)          (None, 54, 54, 128)       0         \n",
      "_________________________________________________________________\n",
      "flatten_1 (Flatten)          (None, 373248)            0         \n",
      "_________________________________________________________________\n",
      "dense_1 (Dense)              (None, 64)                23887936  \n",
      "_________________________________________________________________\n",
      "dropout_3 (Dropout)          (None, 64)                0         \n",
      "_________________________________________________________________\n",
      "dense_2 (Dense)              (None, 1)                 65        \n",
      "=================================================================\n",
      "Total params: 23,981,249\n",
      "Trainable params: 23,981,249\n",
      "Non-trainable params: 0\n",
      "_________________________________________________________________\n"
     ]
    }
   ],
   "source": [
    "model.summary()"
   ]
  },
  {
   "cell_type": "code",
   "execution_count": 6,
   "metadata": {},
   "outputs": [],
   "source": [
    "# train from scratch\n",
    "train_datagen = image.ImageDataGenerator(rescale = 1./255,\n",
    "                                   shear_range = 0.2,\n",
    "                                   zoom_range = 0.2,\n",
    "                                   horizontal_flip = True)\n",
    "\n",
    "test_dataset = image.ImageDataGenerator(rescale = 1./255)"
   ]
  },
  {
   "cell_type": "code",
   "execution_count": 7,
   "metadata": {},
   "outputs": [
    {
     "name": "stdout",
     "output_type": "stream",
     "text": [
      "Found 343 images belonging to 2 classes.\n"
     ]
    }
   ],
   "source": [
    "train_generator = train_datagen.flow_from_directory(\n",
    "'dataset/Train',\n",
    "    target_size = [224,224],\n",
    "    batch_size = 32,\n",
    "    class_mode = 'binary'\n",
    ")"
   ]
  },
  {
   "cell_type": "code",
   "execution_count": 8,
   "metadata": {},
   "outputs": [
    {
     "data": {
      "text/plain": [
       "{'Covid': 0, 'Normal': 1}"
      ]
     },
     "execution_count": 8,
     "metadata": {},
     "output_type": "execute_result"
    }
   ],
   "source": [
    "train_generator.class_indices"
   ]
  },
  {
   "cell_type": "code",
   "execution_count": 9,
   "metadata": {},
   "outputs": [
    {
     "name": "stdout",
     "output_type": "stream",
     "text": [
      "Found 60 images belonging to 2 classes.\n"
     ]
    }
   ],
   "source": [
    "validation_generator = test_dataset.flow_from_directory(\n",
    "'dataset/Validation',\n",
    "    target_size = [224,224],\n",
    "    batch_size = 32,\n",
    "    class_mode = 'binary'\n",
    ")"
   ]
  },
  {
   "cell_type": "code",
   "execution_count": 10,
   "metadata": {},
   "outputs": [
    {
     "name": "stdout",
     "output_type": "stream",
     "text": [
      "Epoch 1/10\n",
      "8/8 [==============================] - 66s 8s/step - loss: 5.2116 - accuracy: 0.4980 - val_loss: 0.7053 - val_accuracy: 0.5000\n",
      "Epoch 2/10\n",
      "8/8 [==============================] - 53s 7s/step - loss: 0.6832 - accuracy: 0.5992 - val_loss: 0.7242 - val_accuracy: 0.2167\n",
      "Epoch 3/10\n",
      "8/8 [==============================] - 51s 6s/step - loss: 0.5712 - accuracy: 0.7368 - val_loss: 0.8188 - val_accuracy: 0.2167\n",
      "Epoch 4/10\n",
      "8/8 [==============================] - 49s 6s/step - loss: 0.4432 - accuracy: 0.8203 - val_loss: 0.9381 - val_accuracy: 0.2167\n",
      "Epoch 5/10\n",
      "8/8 [==============================] - 49s 6s/step - loss: 0.3935 - accuracy: 0.8178 - val_loss: 1.0362 - val_accuracy: 0.3333\n",
      "Epoch 6/10\n",
      "8/8 [==============================] - 52s 6s/step - loss: 0.3766 - accuracy: 0.8281 - val_loss: 1.0246 - val_accuracy: 0.3667\n",
      "Epoch 7/10\n",
      "8/8 [==============================] - 52s 7s/step - loss: 0.3476 - accuracy: 0.8138 - val_loss: 1.0897 - val_accuracy: 0.3167\n",
      "Epoch 8/10\n",
      "8/8 [==============================] - 51s 6s/step - loss: 0.2898 - accuracy: 0.8421 - val_loss: 1.3091 - val_accuracy: 0.3000\n",
      "Epoch 9/10\n",
      "8/8 [==============================] - 54s 7s/step - loss: 0.3680 - accuracy: 0.8281 - val_loss: 1.2876 - val_accuracy: 0.1833\n",
      "Epoch 10/10\n",
      "8/8 [==============================] - 52s 7s/step - loss: 0.3413 - accuracy: 0.8259 - val_loss: 1.6787 - val_accuracy: 0.4167\n"
     ]
    },
    {
     "data": {
      "text/plain": [
       "<keras.callbacks.callbacks.History at 0x209dbd85e48>"
      ]
     },
     "execution_count": 10,
     "metadata": {},
     "output_type": "execute_result"
    }
   ],
   "source": [
    "model.fit_generator(\n",
    "train_generator,\n",
    "steps_per_epoch = 8,\n",
    "epochs =10,\n",
    "validation_data = validation_generator,\n",
    "validation_steps = 2)"
   ]
  },
  {
   "cell_type": "code",
   "execution_count": 37,
   "metadata": {},
   "outputs": [
    {
     "name": "stdout",
     "output_type": "stream",
     "text": [
      "prediction is right\n",
      "prediction is right\n",
      "prediction is right\n",
      "prediction is right\n",
      "prediction is right\n",
      "prediction is right\n",
      "prediction is right\n",
      "prediction is right\n",
      "prediction is right\n",
      "prediction is right\n",
      "prediction is right\n",
      "prediction is right\n",
      "prediction is right\n",
      "prediction is right\n",
      "prediction is right\n",
      "prediction is right\n",
      "prediction is right\n"
     ]
    },
    {
     "ename": "AttributeError",
     "evalue": "'str' object has no attribute 'startwith'",
     "output_type": "error",
     "traceback": [
      "\u001b[1;31m---------------------------------------------------------------------------\u001b[0m",
      "\u001b[1;31mAttributeError\u001b[0m                            Traceback (most recent call last)",
      "\u001b[1;32m<ipython-input-37-ff2b0a733c50>\u001b[0m in \u001b[0;36m<module>\u001b[1;34m\u001b[0m\n\u001b[0;32m     27\u001b[0m             \u001b[1;32melse\u001b[0m\u001b[1;33m:\u001b[0m\u001b[1;33m\u001b[0m\u001b[1;33m\u001b[0m\u001b[0m\n\u001b[0;32m     28\u001b[0m                 \u001b[0mprint\u001b[0m\u001b[1;33m(\u001b[0m\u001b[1;34m'prediction is wrong'\u001b[0m\u001b[1;33m)\u001b[0m\u001b[1;33m\u001b[0m\u001b[1;33m\u001b[0m\u001b[0m\n\u001b[1;32m---> 29\u001b[1;33m         \u001b[1;32melif\u001b[0m \u001b[0mfile\u001b[0m\u001b[1;33m.\u001b[0m\u001b[0mstartwith\u001b[0m\u001b[1;33m(\u001b[0m\u001b[1;34m'person'\u001b[0m\u001b[1;33m)\u001b[0m\u001b[1;33m:\u001b[0m\u001b[1;33m\u001b[0m\u001b[1;33m\u001b[0m\u001b[0m\n\u001b[0m\u001b[0;32m     30\u001b[0m             \u001b[1;32mif\u001b[0m \u001b[0mresult\u001b[0m\u001b[1;33m[\u001b[0m\u001b[1;36m0\u001b[0m\u001b[1;33m]\u001b[0m\u001b[1;33m[\u001b[0m\u001b[1;36m0\u001b[0m\u001b[1;33m]\u001b[0m \u001b[1;33m==\u001b[0m \u001b[1;36m1\u001b[0m\u001b[1;33m:\u001b[0m\u001b[1;33m\u001b[0m\u001b[1;33m\u001b[0m\u001b[0m\n\u001b[0;32m     31\u001b[0m                 \u001b[0mprint\u001b[0m\u001b[1;33m(\u001b[0m\u001b[1;34m'prediction is wrong'\u001b[0m\u001b[1;33m)\u001b[0m\u001b[1;33m\u001b[0m\u001b[1;33m\u001b[0m\u001b[0m\n",
      "\u001b[1;31mAttributeError\u001b[0m: 'str' object has no attribute 'startwith'"
     ]
    }
   ],
   "source": [
    "# single Prediction\n",
    "normal_image_path = 'dataset/val/NORMAL'\n",
    "covid_image_path = 'dataset/val/PNEUMONIA'\n",
    "imagesdirlist = [normal_image_path, covid_image_path]\n",
    "from os import listdir\n",
    "\n",
    "\n",
    "for imagedir in imagesdirlist:\n",
    "    for file in listdir(imagedir):\n",
    "        \n",
    "        if file.startswith('NORMAL'):\n",
    "            path = normal_image_path + '/' + file\n",
    "        elif  file.startswith('person'):\n",
    "            path = covid_image_path + '/' + file\n",
    "            \n",
    "        test_image = image.load_img(path, target_size = (224, 224))\n",
    "        test_image = image.img_to_array(test_image)\n",
    "        test_image = np.expand_dims(test_image, axis = 0)\n",
    "        result = model.predict(test_image)\n",
    "        if result[0][0] == 1:\n",
    "            print('prediction is right')\n",
    "        else:\n",
    "            print('prediction is wrong')\n",
    "        if file.startswith('NORMAL'):\n",
    "            if result[0][0] == 1:\n",
    "                print('prediction is right')\n",
    "            else:\n",
    "                print('prediction is wrong')\n",
    "        elif file.startwith('person'):\n",
    "            if result[0][0] == 1:\n",
    "                print('prediction is wrong')\n",
    "            else:\n",
    "                print('prediction is right')\n",
    "            "
   ]
  }
 ],
 "metadata": {
  "kernelspec": {
   "display_name": "Python 3",
   "language": "python",
   "name": "python3"
  },
  "language_info": {
   "codemirror_mode": {
    "name": "ipython",
    "version": 3
   },
   "file_extension": ".py",
   "mimetype": "text/x-python",
   "name": "python",
   "nbconvert_exporter": "python",
   "pygments_lexer": "ipython3",
   "version": "3.8.3"
  }
 },
 "nbformat": 4,
 "nbformat_minor": 4
}
